{
 "cells": [
  {
   "cell_type": "code",
   "execution_count": 1,
   "id": "cb1c6905",
   "metadata": {},
   "outputs": [
    {
     "name": "stdout",
     "output_type": "stream",
     "text": [
      "Requirement already satisfied: kaggle in /home/rc/anaconda3/envs/news/lib/python3.9/site-packages (1.5.12)\n",
      "Requirement already satisfied: tqdm in /home/rc/anaconda3/envs/news/lib/python3.9/site-packages (from kaggle) (4.64.0)\n",
      "Requirement already satisfied: certifi in /home/rc/anaconda3/envs/news/lib/python3.9/site-packages (from kaggle) (2021.10.8)\n",
      "Requirement already satisfied: requests in /home/rc/anaconda3/envs/news/lib/python3.9/site-packages (from kaggle) (2.27.1)\n",
      "Requirement already satisfied: python-slugify in /home/rc/anaconda3/envs/news/lib/python3.9/site-packages (from kaggle) (5.0.2)\n",
      "Requirement already satisfied: six>=1.10 in /home/rc/anaconda3/envs/news/lib/python3.9/site-packages (from kaggle) (1.16.0)\n",
      "Requirement already satisfied: urllib3 in /home/rc/anaconda3/envs/news/lib/python3.9/site-packages (from kaggle) (1.26.9)\n",
      "Requirement already satisfied: python-dateutil in /home/rc/anaconda3/envs/news/lib/python3.9/site-packages (from kaggle) (2.8.2)\n",
      "Requirement already satisfied: text-unidecode>=1.3 in /home/rc/anaconda3/envs/news/lib/python3.9/site-packages (from python-slugify->kaggle) (1.3)\n",
      "Requirement already satisfied: idna<4,>=2.5 in /home/rc/anaconda3/envs/news/lib/python3.9/site-packages (from requests->kaggle) (3.3)\n",
      "Requirement already satisfied: charset-normalizer~=2.0.0 in /home/rc/anaconda3/envs/news/lib/python3.9/site-packages (from requests->kaggle) (2.0.4)\n"
     ]
    }
   ],
   "source": [
    "!pip install kaggle"
   ]
  },
  {
   "cell_type": "markdown",
   "id": "0c9b2368",
   "metadata": {},
   "source": [
    "<h2>Loading <span style='color:green'>Modules</span>:</h2>"
   ]
  },
  {
   "cell_type": "code",
   "execution_count": 2,
   "id": "112446c6",
   "metadata": {},
   "outputs": [
    {
     "name": "stdout",
     "output_type": "stream",
     "text": [
      "PRESENT WORKING DIRECTORY:\n",
      " /home/rc/project/News_article_sorting\n"
     ]
    },
    {
     "name": "stderr",
     "output_type": "stream",
     "text": [
      "2022-07-20 19:41:35.939620: W tensorflow/stream_executor/platform/default/dso_loader.cc:64] Could not load dynamic library 'libcudart.so.11.0'; dlerror: libcudart.so.11.0: cannot open shared object file: No such file or directory\n",
      "2022-07-20 19:41:35.939657: I tensorflow/stream_executor/cuda/cudart_stub.cc:29] Ignore above cudart dlerror if you do not have a GPU set up on your machine.\n",
      "[nltk_data] Downloading package stopwords to /home/rc/nltk_data...\n",
      "[nltk_data]   Package stopwords is already up-to-date!\n",
      "[nltk_data] Downloading package punkt to /home/rc/nltk_data...\n",
      "[nltk_data]   Package punkt is already up-to-date!\n",
      "[nltk_data] Downloading package averaged_perceptron_tagger to\n",
      "[nltk_data]     /home/rc/nltk_data...\n",
      "[nltk_data]   Package averaged_perceptron_tagger is already up-to-\n",
      "[nltk_data]       date!\n",
      "[nltk_data] Downloading package wordnet to /home/rc/nltk_data...\n",
      "[nltk_data]   Package wordnet is already up-to-date!\n",
      "[nltk_data] Downloading package omw-1.4 to /home/rc/nltk_data...\n",
      "[nltk_data]   Package omw-1.4 is already up-to-date!\n"
     ]
    }
   ],
   "source": [
    "#LIBRARIES\n",
    "import numpy as np\n",
    "import pandas as pd\n",
    "import os\n",
    "PATH = os.getcwd()\n",
    "print('PRESENT WORKING DIRECTORY:\\n',PATH)\n",
    "\n",
    "import matplotlib.pyplot as plt\n",
    "import seaborn as sns\n",
    "import tensorflow as tf\n",
    "import nltk\n",
    "nltk.download('stopwords')\n",
    "nltk.download('punkt')\n",
    "nltk.download('averaged_perceptron_tagger')\n",
    "nltk.download('wordnet')\n",
    "nltk.download('omw-1.4')\n",
    "\n",
    "import sklearn\n",
    "from sklearn.model_selection import GridSearchCV\n",
    "from sklearn.metrics import confusion_matrix\n",
    "from tensorflow import keras\n",
    "from keras.preprocessing.text import text_to_word_sequence\n",
    "from nltk.corpus import stopwords\n",
    "from nltk.stem import PorterStemmer\n",
    "from nltk.stem import WordNetLemmatizer\n",
    "from nltk.corpus import wordnet\n",
    "from sklearn.feature_extraction.text import TfidfVectorizer\n",
    "from sklearn.feature_extraction.text import TfidfTransformer\n",
    "from sklearn.feature_extraction.text import CountVectorizer\n",
    "from sklearn.model_selection import train_test_split\n",
    "from sklearn import svm\n",
    "from sklearn.naive_bayes import MultinomialNB\n",
    "from sklearn.naive_bayes import GaussianNB\n",
    "from sklearn.metrics import roc_auc_score\n",
    "from sklearn.pipeline import Pipeline\n",
    "from sklearn.metrics import classification_report\n",
    "from sklearn.metrics import accuracy_score\n",
    "from sklearn.tree import DecisionTreeClassifier\n",
    "from sklearn.ensemble import RandomForestClassifier"
   ]
  },
  {
   "cell_type": "markdown",
   "id": "6d184f29",
   "metadata": {},
   "source": [
    "<h2>Gathering Data from <span style='color:blue'>Kaggle</span>:</h2>"
   ]
  },
  {
   "cell_type": "code",
   "execution_count": 3,
   "id": "b1578cba",
   "metadata": {},
   "outputs": [
    {
     "name": "stderr",
     "output_type": "stream",
     "text": [
      "mkdir: cannot create directory ‘/home/rc/.kaggle’: File exists\n"
     ]
    },
    {
     "name": "stdout",
     "output_type": "stream",
     "text": [
      "learn-ai-bbc.zip: Skipping, found more recently modified local copy (use --force to force download)\n"
     ]
    }
   ],
   "source": [
    "%%bash\n",
    "pip install -q kaggle\n",
    "mkdir ~/.kaggle\n",
    "cp kaggle.json ~/.kaggle/\n",
    "chmod 600 ~/.kaggle/kaggle.json\n",
    "kaggle competitions download -c learn-ai-bbc"
   ]
  },
  {
   "cell_type": "code",
   "execution_count": 4,
   "id": "46aa23d3",
   "metadata": {},
   "outputs": [
    {
     "data": {
      "text/plain": [
       "'unzip learn-ai-bbc.zip'"
      ]
     },
     "execution_count": 4,
     "metadata": {},
     "output_type": "execute_result"
    }
   ],
   "source": [
    "# RUN THE FOLLOWING COMMAND IN TERMINAL\n",
    "'''unzip learn-ai-bbc.zip'''\n"
   ]
  },
  {
   "cell_type": "code",
   "execution_count": 5,
   "id": "30e0126d",
   "metadata": {},
   "outputs": [
    {
     "name": "stdout",
     "output_type": "stream",
     "text": [
      " activate_env.sh                 kaggle.json                  setup.sh\r\n",
      "'BBC News Sample Solution.csv'   \u001b[0m\u001b[01;31mlearn-ai-bbc.zip\u001b[0m            'step 1.ipynb'\r\n",
      "'BBC News Test.csv'             'News Articles Sorting.pdf'   Submission.csv\r\n",
      "'BBC News Train.csv'             README.md\r\n"
     ]
    }
   ],
   "source": [
    "ls"
   ]
  },
  {
   "cell_type": "code",
   "execution_count": 6,
   "id": "c1fb7539",
   "metadata": {},
   "outputs": [
    {
     "data": {
      "text/html": [
       "<div>\n",
       "<style scoped>\n",
       "    .dataframe tbody tr th:only-of-type {\n",
       "        vertical-align: middle;\n",
       "    }\n",
       "\n",
       "    .dataframe tbody tr th {\n",
       "        vertical-align: top;\n",
       "    }\n",
       "\n",
       "    .dataframe thead th {\n",
       "        text-align: right;\n",
       "    }\n",
       "</style>\n",
       "<table border=\"1\" class=\"dataframe\">\n",
       "  <thead>\n",
       "    <tr style=\"text-align: right;\">\n",
       "      <th></th>\n",
       "      <th>ArticleId</th>\n",
       "      <th>Text</th>\n",
       "      <th>Category</th>\n",
       "    </tr>\n",
       "  </thead>\n",
       "  <tbody>\n",
       "    <tr>\n",
       "      <th>0</th>\n",
       "      <td>1833</td>\n",
       "      <td>worldcom ex-boss launches defence lawyers defe...</td>\n",
       "      <td>business</td>\n",
       "    </tr>\n",
       "    <tr>\n",
       "      <th>1</th>\n",
       "      <td>154</td>\n",
       "      <td>german business confidence slides german busin...</td>\n",
       "      <td>business</td>\n",
       "    </tr>\n",
       "    <tr>\n",
       "      <th>2</th>\n",
       "      <td>1101</td>\n",
       "      <td>bbc poll indicates economic gloom citizens in ...</td>\n",
       "      <td>business</td>\n",
       "    </tr>\n",
       "    <tr>\n",
       "      <th>3</th>\n",
       "      <td>1976</td>\n",
       "      <td>lifestyle  governs mobile choice  faster  bett...</td>\n",
       "      <td>tech</td>\n",
       "    </tr>\n",
       "    <tr>\n",
       "      <th>4</th>\n",
       "      <td>917</td>\n",
       "      <td>enron bosses in $168m payout eighteen former e...</td>\n",
       "      <td>business</td>\n",
       "    </tr>\n",
       "    <tr>\n",
       "      <th>...</th>\n",
       "      <td>...</td>\n",
       "      <td>...</td>\n",
       "      <td>...</td>\n",
       "    </tr>\n",
       "    <tr>\n",
       "      <th>1485</th>\n",
       "      <td>857</td>\n",
       "      <td>double eviction from big brother model caprice...</td>\n",
       "      <td>entertainment</td>\n",
       "    </tr>\n",
       "    <tr>\n",
       "      <th>1486</th>\n",
       "      <td>325</td>\n",
       "      <td>dj double act revamp chart show dj duo jk and ...</td>\n",
       "      <td>entertainment</td>\n",
       "    </tr>\n",
       "    <tr>\n",
       "      <th>1487</th>\n",
       "      <td>1590</td>\n",
       "      <td>weak dollar hits reuters revenues at media gro...</td>\n",
       "      <td>business</td>\n",
       "    </tr>\n",
       "    <tr>\n",
       "      <th>1488</th>\n",
       "      <td>1587</td>\n",
       "      <td>apple ipod family expands market apple has exp...</td>\n",
       "      <td>tech</td>\n",
       "    </tr>\n",
       "    <tr>\n",
       "      <th>1489</th>\n",
       "      <td>538</td>\n",
       "      <td>santy worm makes unwelcome visit thousands of ...</td>\n",
       "      <td>tech</td>\n",
       "    </tr>\n",
       "  </tbody>\n",
       "</table>\n",
       "<p>1490 rows × 3 columns</p>\n",
       "</div>"
      ],
      "text/plain": [
       "      ArticleId                                               Text  \\\n",
       "0          1833  worldcom ex-boss launches defence lawyers defe...   \n",
       "1           154  german business confidence slides german busin...   \n",
       "2          1101  bbc poll indicates economic gloom citizens in ...   \n",
       "3          1976  lifestyle  governs mobile choice  faster  bett...   \n",
       "4           917  enron bosses in $168m payout eighteen former e...   \n",
       "...         ...                                                ...   \n",
       "1485        857  double eviction from big brother model caprice...   \n",
       "1486        325  dj double act revamp chart show dj duo jk and ...   \n",
       "1487       1590  weak dollar hits reuters revenues at media gro...   \n",
       "1488       1587  apple ipod family expands market apple has exp...   \n",
       "1489        538  santy worm makes unwelcome visit thousands of ...   \n",
       "\n",
       "           Category  \n",
       "0          business  \n",
       "1          business  \n",
       "2          business  \n",
       "3              tech  \n",
       "4          business  \n",
       "...             ...  \n",
       "1485  entertainment  \n",
       "1486  entertainment  \n",
       "1487       business  \n",
       "1488           tech  \n",
       "1489           tech  \n",
       "\n",
       "[1490 rows x 3 columns]"
      ]
     },
     "metadata": {},
     "output_type": "display_data"
    },
    {
     "name": "stdout",
     "output_type": "stream",
     "text": [
      "==================================================\n"
     ]
    },
    {
     "data": {
      "text/html": [
       "<div>\n",
       "<style scoped>\n",
       "    .dataframe tbody tr th:only-of-type {\n",
       "        vertical-align: middle;\n",
       "    }\n",
       "\n",
       "    .dataframe tbody tr th {\n",
       "        vertical-align: top;\n",
       "    }\n",
       "\n",
       "    .dataframe thead th {\n",
       "        text-align: right;\n",
       "    }\n",
       "</style>\n",
       "<table border=\"1\" class=\"dataframe\">\n",
       "  <thead>\n",
       "    <tr style=\"text-align: right;\">\n",
       "      <th></th>\n",
       "      <th>ArticleId</th>\n",
       "      <th>Text</th>\n",
       "    </tr>\n",
       "  </thead>\n",
       "  <tbody>\n",
       "    <tr>\n",
       "      <th>0</th>\n",
       "      <td>1018</td>\n",
       "      <td>qpr keeper day heads for preston queens park r...</td>\n",
       "    </tr>\n",
       "    <tr>\n",
       "      <th>1</th>\n",
       "      <td>1319</td>\n",
       "      <td>software watching while you work software that...</td>\n",
       "    </tr>\n",
       "    <tr>\n",
       "      <th>2</th>\n",
       "      <td>1138</td>\n",
       "      <td>d arcy injury adds to ireland woe gordon d arc...</td>\n",
       "    </tr>\n",
       "    <tr>\n",
       "      <th>3</th>\n",
       "      <td>459</td>\n",
       "      <td>india s reliance family feud heats up the ongo...</td>\n",
       "    </tr>\n",
       "    <tr>\n",
       "      <th>4</th>\n",
       "      <td>1020</td>\n",
       "      <td>boro suffer morrison injury blow middlesbrough...</td>\n",
       "    </tr>\n",
       "    <tr>\n",
       "      <th>...</th>\n",
       "      <td>...</td>\n",
       "      <td>...</td>\n",
       "    </tr>\n",
       "    <tr>\n",
       "      <th>730</th>\n",
       "      <td>1923</td>\n",
       "      <td>eu to probe alitalia  state aid  the european ...</td>\n",
       "    </tr>\n",
       "    <tr>\n",
       "      <th>731</th>\n",
       "      <td>373</td>\n",
       "      <td>u2 to play at grammy awards show irish rock ba...</td>\n",
       "    </tr>\n",
       "    <tr>\n",
       "      <th>732</th>\n",
       "      <td>1704</td>\n",
       "      <td>sport betting rules in spotlight a group of mp...</td>\n",
       "    </tr>\n",
       "    <tr>\n",
       "      <th>733</th>\n",
       "      <td>206</td>\n",
       "      <td>alfa romeos  to get gm engines  fiat is to sto...</td>\n",
       "    </tr>\n",
       "    <tr>\n",
       "      <th>734</th>\n",
       "      <td>471</td>\n",
       "      <td>citizenship event for 18s touted citizenship c...</td>\n",
       "    </tr>\n",
       "  </tbody>\n",
       "</table>\n",
       "<p>735 rows × 2 columns</p>\n",
       "</div>"
      ],
      "text/plain": [
       "     ArticleId                                               Text\n",
       "0         1018  qpr keeper day heads for preston queens park r...\n",
       "1         1319  software watching while you work software that...\n",
       "2         1138  d arcy injury adds to ireland woe gordon d arc...\n",
       "3          459  india s reliance family feud heats up the ongo...\n",
       "4         1020  boro suffer morrison injury blow middlesbrough...\n",
       "..         ...                                                ...\n",
       "730       1923  eu to probe alitalia  state aid  the european ...\n",
       "731        373  u2 to play at grammy awards show irish rock ba...\n",
       "732       1704  sport betting rules in spotlight a group of mp...\n",
       "733        206  alfa romeos  to get gm engines  fiat is to sto...\n",
       "734        471  citizenship event for 18s touted citizenship c...\n",
       "\n",
       "[735 rows x 2 columns]"
      ]
     },
     "metadata": {},
     "output_type": "display_data"
    }
   ],
   "source": [
    "\n",
    "TRAIN = pd.read_csv(os.path.join(PATH,'BBC News Train.csv'))\n",
    "display(TRAIN)\n",
    "print('='*50)\n",
    "TEST = pd.read_csv(os.path.join(PATH,'BBC News Test.csv'))\n",
    "display(TEST)"
   ]
  },
  {
   "cell_type": "markdown",
   "id": "d1cb13df",
   "metadata": {},
   "source": [
    "<h2>Data from <span style='color:green'>Exploration</span>:</h2>"
   ]
  },
  {
   "cell_type": "code",
   "execution_count": 7,
   "id": "2a12fde8",
   "metadata": {},
   "outputs": [
    {
     "name": "stdout",
     "output_type": "stream",
     "text": [
      "List of News Categories present:\n",
      "\n",
      " ['business' 'tech' 'politics' 'sport' 'entertainment']\n"
     ]
    }
   ],
   "source": [
    "#CATEGORIES OF NEWS:\n",
    "print('List of News Categories present:\\n\\n',TRAIN.Category.unique())"
   ]
  },
  {
   "cell_type": "code",
   "execution_count": 8,
   "id": "d0bff87c",
   "metadata": {},
   "outputs": [
    {
     "data": {
      "text/plain": [
       "<AxesSubplot:>"
      ]
     },
     "execution_count": 8,
     "metadata": {},
     "output_type": "execute_result"
    },
    {
     "data": {
      "image/png": "[encoded data removed]",
      "text/plain": [
       "<Figure size 432x288 with 1 Axes>"
      ]
     },
     "metadata": {
      "needs_background": "light"
     },
     "output_type": "display_data"
    }
   ],
   "source": [
    "#Count of News Article Present in Train data:\n",
    "TRAIN['Category'].value_counts().plot.barh()"
   ]
  },
  {
   "cell_type": "markdown",
   "id": "7923227e",
   "metadata": {},
   "source": [
    "<h1 style='color:white;background-color:blue'>&#128509ML Approach:</h1>"
   ]
  },
  {
   "cell_type": "markdown",
   "id": "3328b244",
   "metadata": {},
   "source": [
    "<h2>Data Preprocessing <span style = 'color:red'>&</span> <span style='color:green'>Model Training</span>:</h2>"
   ]
  },
  {
   "cell_type": "code",
   "execution_count": 32,
   "id": "ecc877ed",
   "metadata": {},
   "outputs": [],
   "source": [
    "def preprocessDataset(train_text):\n",
    "    train_text= str(train_text)\n",
    "    tokenized_train_set = text_to_word_sequence(train_text,filters='!\"#$%&()*+,-./:;<=>?@[\\\\]^_`{|}~\\t\\n',lower=True,split=\" \")\n",
    "    stop_words = set(stopwords.words('english'))\n",
    "    stopwordremove = [i for i in tokenized_train_set if not i in stop_words]\n",
    "    stopwordremove_text = ' '.join(stopwordremove)\n",
    "    numberremove_text = ''.join(c for c in stopwordremove_text if not c.isdigit())\n",
    "    stemmer= PorterStemmer()\n",
    "\n",
    "    stem_input=nltk.word_tokenize(numberremove_text)\n",
    "    stem_text=' '.join([stemmer.stem(word) for word in stem_input])   \n",
    "    lemmatizer = WordNetLemmatizer()\n",
    "\n",
    "    def get_wordnet_pos(word):\n",
    "        \"\"\"Map POS tag to first character lemmatize() accepts\"\"\"\n",
    "        tag = nltk.pos_tag([word])[0][1][0].upper()\n",
    "        tag_dict = {\"J\": wordnet.ADJ,\n",
    "                \"N\": wordnet.NOUN,\n",
    "                \"V\": wordnet.VERB,\n",
    "                \"R\": wordnet.ADV}\n",
    "\n",
    "        return tag_dict.get(tag, wordnet.NOUN)\n",
    "\n",
    "    lem_input = nltk.word_tokenize(stem_text)\n",
    "    lem_text= ' '.join([lemmatizer.lemmatize(w, get_wordnet_pos(w)) for w in lem_input])\n",
    "        \n",
    "    return lem_text"
   ]
  },
  {
   "cell_type": "code",
   "execution_count": 33,
   "id": "9086e26e",
   "metadata": {},
   "outputs": [],
   "source": [
    "X = TRAIN['Text']\n",
    "y = TRAIN['Category']\n",
    "X_train, X_val, Y_train, Y_val = train_test_split(X,y,test_size=0.25,shuffle=True,random_state=4)"
   ]
  },
  {
   "cell_type": "code",
   "execution_count": 34,
   "id": "35a85a90",
   "metadata": {},
   "outputs": [],
   "source": [
    "X_train = X_train.apply(preprocessDataset)\n",
    "X_val = X_val.apply(preprocessDataset)\n",
    "\n",
    "#Label Encoding\n",
    "label = sklearn.preprocessing.LabelEncoder()\n",
    "label.fit(y)\n",
    "y_train = label.transform(Y_train)\n",
    "y_val = label.transform(Y_val)\n"
   ]
  },
  {
   "cell_type": "code",
   "execution_count": 35,
   "id": "3a9bd9b7",
   "metadata": {},
   "outputs": [
    {
     "name": "stdout",
     "output_type": "stream",
     "text": [
      "Naive Bayes Train Accuracy Score : 100% \n",
      "Naive Bayes Val Val Score  : 98% \n",
      "\n",
      "              precision    recall  f1-score   support\n",
      "\n",
      "           0       0.99      0.98      0.98        83\n",
      "           1       0.97      1.00      0.98        64\n",
      "           2       0.97      0.99      0.98        74\n",
      "           3       1.00      0.99      0.99        95\n",
      "           4       0.96      0.95      0.96        57\n",
      "\n",
      "    accuracy                           0.98       373\n",
      "   macro avg       0.98      0.98      0.98       373\n",
      "weighted avg       0.98      0.98      0.98       373\n",
      "\n"
     ]
    },
    {
     "data": {
      "image/png": "[encoded data removed]",
      "text/plain": [
       "<Figure size 432x288 with 2 Axes>"
      ]
     },
     "metadata": {
      "needs_background": "light"
     },
     "output_type": "display_data"
    }
   ],
   "source": [
    "# MULTINOMIAL NAIVE BAYES:\n",
    "param = {\n",
    "    'alpha':[0.01,0.1,0.5,1,5,10,100]\n",
    "}\n",
    "pipe = Pipeline([('tfidf', TfidfVectorizer(lowercase=True,ngram_range=(1,2))),\n",
    "                 ('clf',GridSearchCV(MultinomialNB(),param_grid=param)),\n",
    "                ])\n",
    "pipe.fit(X_train,y_train)\n",
    "y_predict = pipe.predict(X_val)\n",
    "\n",
    "train_accuracy = round(pipe.score(X_train,y_train)*100)\n",
    "test_accuracy =round(accuracy_score(y_predict, y_val)*100)\n",
    "\n",
    "\n",
    "print(\"Naive Bayes Train Accuracy Score : {}% \".format(train_accuracy ))\n",
    "print(\"Naive Bayes Val Val Score  : {}% \".format(test_accuracy ))\n",
    "print(classification_report(y_predict, y_val))\n",
    "sns.heatmap(confusion_matrix(y_predict, y_val),annot=True)\n",
    "plt.title('Confusion Matrix')\n",
    "plt.show()"
   ]
  },
  {
   "cell_type": "code",
   "execution_count": 36,
   "id": "cacdcf69",
   "metadata": {},
   "outputs": [
    {
     "name": "stdout",
     "output_type": "stream",
     "text": [
      "Random Forest Classifier Train Accuracy Score : 100% \n",
      "Random Forest Classifier Val Accuracy Score  : 94% \n",
      "\n",
      "              precision    recall  f1-score   support\n",
      "\n",
      "           0       0.95      0.87      0.91        90\n",
      "           1       1.00      0.97      0.99        68\n",
      "           2       0.87      0.97      0.92        67\n",
      "           3       0.99      0.96      0.97        97\n",
      "           4       0.89      0.98      0.93        51\n",
      "\n",
      "    accuracy                           0.94       373\n",
      "   macro avg       0.94      0.95      0.94       373\n",
      "weighted avg       0.95      0.94      0.94       373\n",
      "\n"
     ]
    },
    {
     "data": {
      "image/png": "[encoded data removed]",
      "text/plain": [
       "<Figure size 432x288 with 2 Axes>"
      ]
     },
     "metadata": {
      "needs_background": "light"
     },
     "output_type": "display_data"
    }
   ],
   "source": [
    "\n",
    "param = {\n",
    "    'n_estimators':[10,20,50,100,200],\n",
    "}\n",
    "pipe = Pipeline([('tfidf', TfidfVectorizer(lowercase=True,ngram_range=(1,2))),\n",
    "                 ('clf',GridSearchCV(RandomForestClassifier(),param_grid=param)),\n",
    "                ])\n",
    "pipe.fit(X_train,y_train)\n",
    "y_predict = pipe.predict(X_val)\n",
    "\n",
    "train_accuracy = round(pipe.score(X_train,y_train)*100)\n",
    "test_accuracy =round(accuracy_score(y_predict, y_val)*100)\n",
    "\n",
    "\n",
    "print(\"Random Forest Classifier Train Accuracy Score : {}% \".format(train_accuracy ))\n",
    "print(\"Random Forest Classifier Val Accuracy Score  : {}% \".format(test_accuracy ))\n",
    "print()\n",
    "print(classification_report(y_predict, y_val))\n",
    "sns.heatmap(confusion_matrix(y_predict, y_val),annot=True)\n",
    "plt.title('Confusion Matrix')\n",
    "plt.show()"
   ]
  },
  {
   "cell_type": "code",
   "execution_count": null,
   "id": "e1002f23",
   "metadata": {},
   "outputs": [],
   "source": []
  },
  {
   "cell_type": "code",
   "execution_count": null,
   "id": "2d1998ef",
   "metadata": {},
   "outputs": [],
   "source": []
  },
  {
   "cell_type": "markdown",
   "id": "a1ade97b",
   "metadata": {},
   "source": [
    "<h2>Predicting <span style = 'color:red'>on</span> <span style='color:green'>Test Dataset</span>:</h2>"
   ]
  },
  {
   "cell_type": "code",
   "execution_count": 24,
   "id": "f6d1e97b",
   "metadata": {},
   "outputs": [
    {
     "data": {
      "text/plain": [
       "0      qpr keeper day head preston queen park ranger ...\n",
       "1      softwar watch work softwar monitor everi keyst...\n",
       "2      arci injuri add ireland woe gordon arci rule i...\n",
       "3      india relianc famili feud heat ongo public spa...\n",
       "4      boro suffer morrison injuri blow middlesbrough...\n",
       "                             ...                        \n",
       "730    eu probe alitalia state aid european commiss o...\n",
       "731    u play grammi award show irish rock band u pla...\n",
       "732    sport bet rule spotlight group mp peer call ti...\n",
       "733    alfa romeo get gm engin fiat stop make six cyl...\n",
       "734    citizenship event s tout citizenship ceremoni ...\n",
       "Name: Text, Length: 735, dtype: object"
      ]
     },
     "execution_count": 24,
     "metadata": {},
     "output_type": "execute_result"
    }
   ],
   "source": [
    "X_test = TEST['Text'].apply(preprocessDataset)\n",
    "X_test"
   ]
  },
  {
   "cell_type": "code",
   "execution_count": 25,
   "id": "11df2668",
   "metadata": {},
   "outputs": [],
   "source": [
    "predicted_labels = label.inverse_transform(pipe.predict(X_test))"
   ]
  },
  {
   "cell_type": "code",
   "execution_count": 37,
   "id": "5ace4dab",
   "metadata": {},
   "outputs": [],
   "source": [
    "#saving prediction in Submission.csv file \n",
    "final = pd.DataFrame([TEST['ArticleId'],predicted_labels]).transpose()\n",
    "final.columns = ['ArticleId','Category']\n",
    "final.to_csv('Submission.csv',index=False)"
   ]
  },
  {
   "cell_type": "markdown",
   "id": "2e5b78f8",
   "metadata": {},
   "source": [
    "<h2>Predicting <span style = 'color:red'>News Label </span>by implementing<span style='color:green'> Custom Function</span>:</h2>"
   ]
  },
  {
   "cell_type": "code",
   "execution_count": 27,
   "id": "2ddde767",
   "metadata": {},
   "outputs": [],
   "source": [
    "def Predict_category(text):\n",
    "    return label.inverse_transform(pipe.predict([preprocessDataset(text)]))[0]\n",
    "    "
   ]
  },
  {
   "cell_type": "code",
   "execution_count": 28,
   "id": "01818030",
   "metadata": {},
   "outputs": [],
   "source": [
    "news = '''Busted star Charlie Simpson shares son's secondary-drowning story'''"
   ]
  },
  {
   "cell_type": "code",
   "execution_count": 29,
   "id": "b273c3eb",
   "metadata": {},
   "outputs": [
    {
     "data": {
      "text/plain": [
       "'entertainment'"
      ]
     },
     "execution_count": 29,
     "metadata": {},
     "output_type": "execute_result"
    }
   ],
   "source": [
    "Predict_category(news)"
   ]
  },
  {
   "cell_type": "code",
   "execution_count": null,
   "id": "c5773cec",
   "metadata": {},
   "outputs": [],
   "source": []
  },
  {
   "cell_type": "code",
   "execution_count": 30,
   "id": "6798148e",
   "metadata": {},
   "outputs": [
    {
     "data": {
      "text/plain": [
       "'business'"
      ]
     },
     "execution_count": 30,
     "metadata": {},
     "output_type": "execute_result"
    }
   ],
   "source": [
    "news = '''The European Commission has urged countries across the bloc to cut their gas use by 15% from August to March amid fears Russia could halt supplies.\n",
    "\n",
    "It says the target is voluntary but will become legally binding if Moscow turns off the taps this summer.\n",
    "\n",
    "The key Nord Stream 1 pipeline from Russia to Germany has been offline for maintenance for 10 days and is due to be turned back on this Thursday.\n",
    "\n",
    "But there are concerns Moscow will not follow through on its promise.\n",
    "\n",
    "Adding to the uncertainty, Vladimir Putin said on Wednesday that it was not clear whether or in what condition a turbine from the pipeline would be returned in after repairs in Canada.\n",
    "\n",
    "The Russian president said there was a risk the equipment would have to be switched off at \"some point\" and Nord Stream 1 would be shut down.'''\n",
    "\n",
    "\n",
    "\n",
    "Predict_category(news)"
   ]
  },
  {
   "cell_type": "code",
   "execution_count": 31,
   "id": "22160d5e",
   "metadata": {},
   "outputs": [
    {
     "data": {
      "text/plain": [
       "'business'"
      ]
     },
     "execution_count": 31,
     "metadata": {},
     "output_type": "execute_result"
    }
   ],
   "source": [
    "news = '''Apple has agreed to pay $50m (£41.6m) to settle a legal action by claimants in the US, over its MacBook keyboards.\n",
    "\n",
    "Customers in seven states claimed the technology giant had sold the \"butterfly\" keyboards, on MacBook, MacBook Air and MacBook Pro laptops, from 2015 to 2019, knowing they had unresponsive and sticky keys that could be damaged by dust or debris.\n",
    "\n",
    "Apple did not immediately respond to a BBC News request for comment.\n",
    "\n",
    "But the company denies any wrongdoing.\n",
    "\n",
    "The settlement could see customers receiving up to:\n",
    "\n",
    "$395, if they replaced multiple keyboards\n",
    "$125, if they replaced one\n",
    "$50 for those who replaced key caps\n",
    "The preliminary agreement is still subject to approval by a judge.\n",
    "\n",
    "On a typical keyboard, keys are attached using two pieces of plastic that cross each other and close like a pair of scissors when pressed.\n",
    "\n",
    "The butterfly-keyboard keys instead used a wing-like hinge.\n",
    "\n",
    "At the time, Apple said this mechanism was 40% thinner, so its laptops could be slimmer.'''\n",
    "\n",
    "Predict_category(news)"
   ]
  },
  {
   "cell_type": "code",
   "execution_count": 40,
   "id": "732efb9e",
   "metadata": {},
   "outputs": [
    {
     "name": "stdout",
     "output_type": "stream",
     "text": [
      "Username for 'https://github.com': ^C\n"
     ]
    }
   ],
   "source": []
  },
  {
   "cell_type": "markdown",
   "id": "6ed4b849",
   "metadata": {},
   "source": [
    "<h1 style='color:white;background-color:blue'>&#128509DL Approach:</h1>"
   ]
  },
  {
   "cell_type": "code",
   "execution_count": null,
   "id": "e818ab96",
   "metadata": {},
   "outputs": [],
   "source": []
  },
  {
   "cell_type": "code",
   "execution_count": null,
   "id": "827a8f94",
   "metadata": {},
   "outputs": [],
   "source": []
  }
 ],
 "metadata": {
  "kernelspec": {
   "display_name": "news",
   "language": "python",
   "name": "news"
  },
  "language_info": {
   "codemirror_mode": {
    "name": "ipython",
    "version": 3
   },
   "file_extension": ".py",
   "mimetype": "text/x-python",
   "name": "python",
   "nbconvert_exporter": "python",
   "pygments_lexer": "ipython3",
   "version": "3.9.12"
  }
 },
 "nbformat": 4,
 "nbformat_minor": 5
}
